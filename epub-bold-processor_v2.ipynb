{
 "cells": [
  {
   "cell_type": "code",
   "execution_count": 1,
   "metadata": {},
   "outputs": [
    {
     "name": "stdout",
     "output_type": "stream",
     "text": [
      "Requirement already satisfied: beautifulsoup4 in c:\\users\\andrii\\.vscode\\code\\python\\book-bold-processor\\.venv\\lib\\site-packages (4.12.3)\n",
      "Requirement already satisfied: lxml in c:\\users\\andrii\\.vscode\\code\\python\\book-bold-processor\\.venv\\lib\\site-packages (5.2.2)\n",
      "Requirement already satisfied: html5lib in c:\\users\\andrii\\.vscode\\code\\python\\book-bold-processor\\.venv\\lib\\site-packages (1.1)\n",
      "Requirement already satisfied: soupsieve>1.2 in c:\\users\\andrii\\.vscode\\code\\python\\book-bold-processor\\.venv\\lib\\site-packages (from beautifulsoup4) (2.5)\n",
      "Requirement already satisfied: six>=1.9 in c:\\users\\andrii\\.vscode\\code\\python\\book-bold-processor\\.venv\\lib\\site-packages (from html5lib) (1.16.0)\n",
      "Requirement already satisfied: webencodings in c:\\users\\andrii\\.vscode\\code\\python\\book-bold-processor\\.venv\\lib\\site-packages (from html5lib) (0.5.1)\n",
      "Note: you may need to restart the kernel to use updated packages.\n"
     ]
    },
    {
     "name": "stderr",
     "output_type": "stream",
     "text": [
      "\n",
      "[notice] A new release of pip is available: 24.1.2 -> 24.2\n",
      "[notice] To update, run: python.exe -m pip install --upgrade pip\n"
     ]
    },
    {
     "name": "stdout",
     "output_type": "stream",
     "text": [
      "Requirement already satisfied: EbookLib in c:\\users\\andrii\\.vscode\\code\\python\\book-bold-processor\\.venv\\lib\\site-packages (0.18)\n",
      "Requirement already satisfied: lxml in c:\\users\\andrii\\.vscode\\code\\python\\book-bold-processor\\.venv\\lib\\site-packages (from EbookLib) (5.2.2)\n",
      "Requirement already satisfied: six in c:\\users\\andrii\\.vscode\\code\\python\\book-bold-processor\\.venv\\lib\\site-packages (from EbookLib) (1.16.0)\n",
      "Note: you may need to restart the kernel to use updated packages.\n"
     ]
    },
    {
     "name": "stderr",
     "output_type": "stream",
     "text": [
      "\n",
      "[notice] A new release of pip is available: 24.1.2 -> 24.2\n",
      "[notice] To update, run: python.exe -m pip install --upgrade pip\n"
     ]
    }
   ],
   "source": [
    "%pip install beautifulsoup4 lxml html5lib\n",
    "%pip install EbookLib"
   ]
  },
  {
   "cell_type": "code",
   "execution_count": 1,
   "metadata": {},
   "outputs": [],
   "source": [
    "from zipfile import ZipFile\n",
    "import shutil\n",
    "import glob\n",
    "\n"
   ]
  },
  {
   "cell_type": "code",
   "execution_count": 2,
   "metadata": {},
   "outputs": [],
   "source": [
    "import warnings\n",
    "from bs4 import MarkupResemblesLocatorWarning, XMLParsedAsHTMLWarning, BeautifulSoup\n",
    "import bs4\n",
    "#warnings.filterwarnings(\"ignore\", category=XMLParsedAsHTMLWarning)"
   ]
  },
  {
   "cell_type": "code",
   "execution_count": 3,
   "metadata": {},
   "outputs": [],
   "source": [
    "def trimEnd(s: str, value: str):\n",
    "  if(s.endswith(value)):\n",
    "    length = len(value)\n",
    "    return s[:-length]\n",
    "  return s"
   ]
  },
  {
   "cell_type": "code",
   "execution_count": 4,
   "metadata": {},
   "outputs": [],
   "source": [
    "\n",
    "\n",
    "def extractEpub(fromFile: str, toDir: str):\n",
    "    shutil.unpack_archive(f'input/{fromFile}', f'data/{toDir}', 'zip')\n",
    "\n",
    "\n",
    "def saveEpub(fromDir: str, toFile: str):\n",
    "    shutil.make_archive(f'output/{toFile}', 'zip', f'data/{fromDir}')"
   ]
  },
  {
   "cell_type": "code",
   "execution_count": 5,
   "metadata": {},
   "outputs": [],
   "source": [
    "\n",
    "inputEpubs = glob.glob('*.epub', root_dir='./input')"
   ]
  },
  {
   "cell_type": "code",
   "execution_count": 6,
   "metadata": {},
   "outputs": [],
   "source": [
    "def readAll(filename: str):\n",
    "  file = open(filename, encoding='utf-8')\n",
    "  text = file.read()\n",
    "  file.close()\n",
    "  return text\n",
    "\n",
    "def writeAll(filename: str, text: str):\n",
    "  file = open(filename, encoding='utf-8', mode='w')\n",
    "  file.write(text)\n",
    "  file.close()\n"
   ]
  },
  {
   "cell_type": "code",
   "execution_count": 7,
   "metadata": {},
   "outputs": [],
   "source": [
    "from typing import List\n",
    "\n",
    "from bs4 import NavigableString, Tag\n",
    "\n",
    "def parseText(soup: BeautifulSoup, text: str):\n",
    "    def embolden(t: str):\n",
    "        dividerIndex = len(t) // 4 + 1\n",
    "        boldPart = soup.new_tag('b')\n",
    "        boldPart.string = t[0: dividerIndex]\n",
    "\n",
    "        return [boldPart, soup.new_string(t[dividerIndex:])]\n",
    "\n",
    "    result: List[Tag | NavigableString] = []\n",
    "\n",
    "    startI = 0\n",
    "    while startI < len(text):\n",
    "        char = text[startI]\n",
    "        if not char.isalpha():\n",
    "            result.append(char)\n",
    "            startI += 1\n",
    "            continue\n",
    "\n",
    "        if char == '\\'' or char == '\"':\n",
    "            result.extend(embolden(char))\n",
    "            startI += 1\n",
    "            continue\n",
    "\n",
    "        endI = startI\n",
    "        while endI < len(text) and text[endI].isalpha():\n",
    "            endI += 1\n",
    "\n",
    "        word = text[startI: endI]\n",
    "\n",
    "        result.extend(embolden(word))\n",
    "        startI = endI\n",
    "    return result\n"
   ]
  },
  {
   "cell_type": "code",
   "execution_count": 8,
   "metadata": {},
   "outputs": [],
   "source": [
    "import os\n",
    "for epubFullFileName in inputEpubs:\n",
    "  epubShortFileName = trimEnd(epubFullFileName, '.epub')\n",
    "  try:\n",
    "    shutil.rmtree(f'./data/{epubShortFileName}')\n",
    "    os.remove(f'./output/{epubFullFileName}')\n",
    "  except FileNotFoundError:\n",
    "    pass\n",
    "  finally:\n",
    "    pass\n",
    "for dir in glob.glob('./data/*'):\n",
    "    shutil.rmtree(dir)\n",
    "for file in glob.glob('./output/*'):\n",
    "    os.remove(file)"
   ]
  },
  {
   "cell_type": "code",
   "execution_count": 9,
   "metadata": {},
   "outputs": [],
   "source": [
    "from typing import Iterable, Iterator\n",
    "\n",
    "from bs4 import PageElement\n",
    "\n",
    "def skip(iter: Iterator, count: int):\n",
    "  for i in range(0, count):\n",
    "    try:\n",
    "      iter.__next__()\n",
    "    except StopIteration:\n",
    "      return\n",
    "\n",
    "def parseTree(soup: BeautifulSoup, start: BeautifulSoup, elements: Iterable[PageElement]):\n",
    "  iter = elements.__iter__()\n",
    "  while True:\n",
    "    try:\n",
    "      next = iter.__next__()\n",
    "\n",
    "      if isinstance(next, Tag):\n",
    "        parseTree(soup, start, next.children)\n",
    "      else:\n",
    "        boldText = parseText(soup, next.string)\n",
    "        next.replace_with(*boldText)\n",
    "        skip(iter, len(boldText) - 1)\n",
    "\n",
    "    except StopIteration:\n",
    "      break\n",
    "\n",
    "\n",
    "\n"
   ]
  },
  {
   "cell_type": "code",
   "execution_count": 10,
   "metadata": {},
   "outputs": [
    {
     "name": "stdout",
     "output_type": "stream",
     "text": [
      "CoveyStephen-TheSevenHabitsOfHighlyEffectivePeople.epub\n",
      "fitsdzherald-frensis-skott-velykyy-hetsbi1164.epub\n",
      "Spice and Wolf, Vol. 11.epub\n",
      "Spice and Wolf, Vol. 12.epub\n",
      "Spice and Wolf, Vol. 13.epub\n",
      "Spice and Wolf, Vol. 14.epub\n",
      "Spice and Wolf, Vol. 15.epub\n",
      "Spice and Wolf, Vol. 16.epub\n"
     ]
    }
   ],
   "source": [
    "import os\n",
    "\n",
    "for epubFullFileName in inputEpubs:\n",
    "    print(epubFullFileName)\n",
    "    epubShortFileName = trimEnd(epubFullFileName, '.epub')\n",
    "\n",
    "    extractEpub(epubFullFileName, epubShortFileName)\n",
    "    htmlFiles = [*glob.glob('**/*.html', root_dir=f'data/{epubShortFileName}', recursive=True),\n",
    "                 *glob.glob('**/*.xhtml', root_dir=f'data/{epubShortFileName}', recursive=True)]\n",
    "    for dir in htmlFiles:\n",
    "        path = f'data/{epubShortFileName}/{dir}'\n",
    "        parsedDocument = BeautifulSoup(readAll(path), 'xml')\n",
    "        body = parsedDocument.find('body')\n",
    "        parseTree(parsedDocument, body, body.children)\n",
    "        writeAll(path, str(parsedDocument))\n",
    "    newFileName = 'bold-' + epubShortFileName\n",
    "    saveEpub(epubShortFileName, newFileName)\n",
    "    shutil.move(f'./output/{newFileName}.zip', f'./output/{newFileName}.epub')"
   ]
  }
 ],
 "metadata": {
  "kernelspec": {
   "display_name": ".venv",
   "language": "python",
   "name": "python3"
  },
  "language_info": {
   "codemirror_mode": {
    "name": "ipython",
    "version": 3
   },
   "file_extension": ".py",
   "mimetype": "text/x-python",
   "name": "python",
   "nbconvert_exporter": "python",
   "pygments_lexer": "ipython3",
   "version": "3.10.8"
  }
 },
 "nbformat": 4,
 "nbformat_minor": 2
}
